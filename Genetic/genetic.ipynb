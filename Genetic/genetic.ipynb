{
 "cells": [
  {
   "cell_type": "markdown",
   "id": "44e1ae3b-433b-445d-9739-03adaee69d7b",
   "metadata": {},
   "source": [
    "## Genetic "
   ]
  },
  {
   "cell_type": "markdown",
   "id": "77dabe70-16df-4afd-90ce-17889325a56d",
   "metadata": {},
   "source": [
    "First, we implement the required functions and components needed to build a reusable genetic engine, and then we run it on a specific example, such as password guessing."
   ]
  },
  {
   "cell_type": "markdown",
   "id": "cc5a3c2a-dcda-4282-a2f5-ca211309be3f",
   "metadata": {},
   "source": [
    "Import necessary Libraries"
   ]
  },
  {
   "cell_type": "code",
   "execution_count": 1,
   "id": "ed554fe6-4b94-452c-8073-1b223a85c1fa",
   "metadata": {},
   "outputs": [],
   "source": [
    "import random "
   ]
  },
  {
   "cell_type": "markdown",
   "id": "399a4fd9-7e27-4a76-ac98-721c9ccae946",
   "metadata": {},
   "source": [
    "Generate a guess "
   ]
  },
  {
   "cell_type": "code",
   "execution_count": 2,
   "id": "c7d9a193-ffa5-4f16-af4b-fd23741e7a48",
   "metadata": {},
   "outputs": [],
   "source": [
    "def _generate_parent(length, geneSet):\n",
    "    genes = []\n",
    "    while len(genes) < length :\n",
    "        sampleSize = min(length - len(genes) , len(geneSet))\n",
    "        genes.extend(random.sample(geneSet, sampleSize))\n",
    "    return \"\".join(genes)"
   ]
  },
  {
   "cell_type": "markdown",
   "id": "fdc67313-8d85-4147-b678-95e2a2f1cbbe",
   "metadata": {},
   "source": [
    "Mutate"
   ]
  },
  {
   "cell_type": "code",
   "execution_count": 3,
   "id": "24914aa8-ac3d-4044-96e3-3feafe9633d7",
   "metadata": {},
   "outputs": [],
   "source": [
    "def _mutate(parent, geneSet):\n",
    "    index = random.randrange(0, len(parent))\n",
    "    childGenes = list(parent)\n",
    "    newGene, alternate = random.sample(geneSet, 2)\n",
    "    childGenes[index] = alternate \\\n",
    "                    if newGene == childGenes[index] \\\n",
    "                    else newGene\n",
    "    return \"\".join(childGenes)"
   ]
  },
  {
   "cell_type": "markdown",
   "id": "1fcad468-ba5c-4cad-bda3-bd5546b1f53d",
   "metadata": {},
   "source": [
    "Reusable Genetic Module"
   ]
  },
  {
   "cell_type": "code",
   "execution_count": 4,
   "id": "75eea78a-05fb-4d4f-b3df-4d5bc1cf60a4",
   "metadata": {},
   "outputs": [],
   "source": [
    "def get_best(get_fitness, targetLength, optimalFitness, geneSet, display):\n",
    "    random.seed()\n",
    "    bestParent = _generate_parent(targetLength, geneSet)\n",
    "    bestFitness = get_fitness(bestParent)\n",
    "    display(bestParent)\n",
    "    if bestFitness >= optimalFitness :\n",
    "        return bestParent\n",
    "\n",
    "    while 1 :\n",
    "        child = _mutate(bestParent, geneSet)\n",
    "        childFitness = get_fitness(child)\n",
    "        if bestFitness >= childFitness :\n",
    "            continue\n",
    "        display(child)\n",
    "        if childFitness >= optimalFitness:\n",
    "            return child\n",
    "        bestFitness = childFitness\n",
    "        bestParent = child\n",
    "    "
   ]
  },
  {
   "cell_type": "markdown",
   "id": "371df083-41dd-47e9-b7a6-cd406690177a",
   "metadata": {},
   "source": [
    "# Special use\n",
    "Password guessing with genetic algorithm"
   ]
  },
  {
   "cell_type": "code",
   "execution_count": 5,
   "id": "d54c4845-a741-47d5-b7de-0c5e33c0ca9b",
   "metadata": {},
   "outputs": [
    {
     "name": "stdout",
     "output_type": "stream",
     "text": [
      "GZvIpsOUTwJS\t0\t0:00:00.000113\n",
      "GZvIpsOUTlJS\t1\t0:00:00.000535\n",
      "GZvIpsWUTlJS\t2\t0:00:00.002328\n",
      "GZvIpsWoTlJS\t3\t0:00:00.002548\n",
      "GZvlpsWoTlJS\t4\t0:00:00.002585\n",
      "GZvlosWoTlJS\t5\t0:00:00.003188\n",
      "GZvlo WoTlJS\t6\t0:00:00.007754\n",
      "GZvlo WorlJS\t7\t0:00:00.008179\n",
      "GZllo WorlJS\t8\t0:00:00.008270\n",
      "GZllo WorlJ!\t9\t0:00:00.008745\n",
      "GZllo World!\t10\t0:00:00.010715\n",
      "Gello World!\t11\t0:00:00.012568\n",
      "Hello World!\t12\t0:00:00.014189\n"
     ]
    }
   ],
   "source": [
    "import datetime\n",
    "\n",
    "def test_Hello_World():\n",
    "    target = \"Hello World!\"\n",
    "    guess_password(target)\n",
    "    \n",
    "def guess_password(target):\n",
    "    geneset =\" abcdefghijklmnopqrstuvwxyzABCDEFGHIJKLMNOPQRSTUVWXYZ!\"\n",
    "    startTime = datetime.datetime.now()\n",
    "    \n",
    "    def fnGetFitness(genes):\n",
    "        return get_fitness(genes, target)\n",
    "    \n",
    "    def fnDisplay(genes):\n",
    "        display(genes, target, startTime)\n",
    "        \n",
    "    optimalFitness = len(target)\n",
    "    get_best(fnGetFitness, len(target), optimalFitness, geneset, fnDisplay)\n",
    "    \n",
    "def display(genes, target, startTime):\n",
    "    timeD = datetime.datetime.now() - startTime\n",
    "    fitness = get_fitness(genes, target) \n",
    "    print(\"{0}\\t{1}\\t{2}\".format(genes, fitness, str(timeD)))  \n",
    "    \n",
    "def get_fitness(genes, target):\n",
    "    return sum(1 for expected, actual in zip(target, genes)\n",
    "               if expected == actual)    \n",
    "\n",
    "test_Hello_World()\n",
    "    "
   ]
  },
  {
   "cell_type": "code",
   "execution_count": null,
   "id": "13226e80-11c2-4dc4-97d4-cd7f59d1d75e",
   "metadata": {},
   "outputs": [],
   "source": []
  }
 ],
 "metadata": {
  "kernelspec": {
   "display_name": "Python 3 (ipykernel)",
   "language": "python",
   "name": "python3"
  },
  "language_info": {
   "codemirror_mode": {
    "name": "ipython",
    "version": 3
   },
   "file_extension": ".py",
   "mimetype": "text/x-python",
   "name": "python",
   "nbconvert_exporter": "python",
   "pygments_lexer": "ipython3",
   "version": "3.13.2"
  }
 },
 "nbformat": 4,
 "nbformat_minor": 5
}
